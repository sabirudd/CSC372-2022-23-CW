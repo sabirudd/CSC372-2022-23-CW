{
 "cells": [
  {
   "cell_type": "code",
   "execution_count": 29,
   "metadata": {},
   "outputs": [],
   "source": [
    "import numpy as np\n",
    "import math\n",
    "import matplotlib.pyplot as plt\n",
    "\n",
    "weld_bounds = np.array([0.125, 5])\n",
    "beam_bounds = np.array([0.1, 10])\n",
    "\n",
    "def f(x):\n",
    "    return 1.10471*(x[0]**2)*x[1] + 0.04811*x[2]*x[3]*(14.0+x[1])"
   ]
  },
  {
   "cell_type": "code",
   "execution_count": 30,
   "metadata": {},
   "outputs": [],
   "source": [
    "def tau1(x):\n",
    "    return 6000/(math.sqrt(2)*x[0]*x[1])\n",
    "\n",
    "def tau2(x):\n",
    "    top = 6000*(14+0.5*x[1])*math.sqrt(0.25*(x[1]**2+(x[0]+x[2])**2))\n",
    "    bottom = 2 * (0.707 * x[0] * x[1] * ((x[1]**2)/12 + 0.25*(x[0] + x[2])**2))\n",
    "    return top/bottom\n",
    "\n",
    "def tau(x):\n",
    "    return math.sqrt((tau1(x)**2 + tau2(x)**2) + (x[1] * tau1(x) * tau2(x)) / math.sqrt(0.25 * (x[1]**2 + (x[0] + x[2])**2)))\n",
    "    \n",
    "def sigma(x):\n",
    "    return 504000 / (x[2]**2 * x[3])\n",
    "\n",
    "def pc(x):\n",
    "    return 64746.022 * (1 - 0.0282346*x[2]) * x[2] * x[3]**3"
   ]
  },
  {
   "cell_type": "code",
   "execution_count": 31,
   "metadata": {},
   "outputs": [],
   "source": [
    "#Constraints\n",
    "def g1(x):\n",
    "    return 13600 - tau(x)\n",
    "\n",
    "def g2(x):\n",
    "    return 30000 - sigma(x)\n",
    "\n",
    "def g3(x):\n",
    "    return x[3] - x[0]\n",
    "\n",
    "def g4(x):\n",
    "    return pc(x) - 6000"
   ]
  },
  {
   "cell_type": "code",
   "execution_count": 32,
   "metadata": {},
   "outputs": [
    {
     "name": "stdout",
     "output_type": "stream",
     "text": [
      "Objective function output:  32.6024179859\n",
      "First constraint function output:  5308.848564674312\n",
      "Second constraint function output:  26736.764990548952\n",
      "Third constraint function output:  6.82\n",
      "Fourth constraint function output:  122317448.61430933\n"
     ]
    }
   ],
   "source": [
    "#Function Implementation Tests\n",
    "x = np.array([1.05, 3.15, 4.43, 7.87])\n",
    "\n",
    "print(\"Objective function output: \", f(x))\n",
    "print(\"First constraint function output: \", g1(x))\n",
    "print(\"Second constraint function output: \", g2(x))\n",
    "print(\"Third constraint function output: \", g3(x))\n",
    "print(\"Fourth constraint function output: \", g4(x))"
   ]
  },
  {
   "cell_type": "code",
   "execution_count": 33,
   "metadata": {},
   "outputs": [],
   "source": [
    "def static_pen(x, f, r):\n",
    "    return r * np.max([0, f(x)])**1"
   ]
  },
  {
   "cell_type": "code",
   "execution_count": 34,
   "metadata": {},
   "outputs": [
    {
     "name": "stdout",
     "output_type": "stream",
     "text": [
      "4.343988585335773\n"
     ]
    }
   ],
   "source": [
    "#Random Search\n",
    "lower_bound = np.array([0.125, 0.125, 0.1, 0.1])\n",
    "upper_bound = np.array([5, 5, 10, 10])\n",
    "\n",
    "def random_search(function, lower_bound, upper_bound, iterations):\n",
    "    x_random = np.array(np.random.uniform(lower_bound, upper_bound, 4))\n",
    "    x_best = x_random\n",
    "    y_best = f(x_random)\n",
    "\n",
    "    for i in range(1, iterations):\n",
    "        x_random = np.array(np.random.uniform(lower_bound, upper_bound, 4))\n",
    "        y_new = f(x_random)\n",
    "\n",
    "        if(y_new < y_best and function(x_random) >= 0 and g1(x_random) >= 0 and g2(x_random) >= 0 and g3(x_random) >= 0 and g4(x_random) >= 0):\n",
    "            #print(\"new best\")\n",
    "            x_best = x_random\n",
    "            y_best = y_new\n",
    "\n",
    "    if(function(x_best) >= 0 and g1(x_best) >= 0 and g2(x_best) >= 0 and g3(x_best) >= 0 and g4(x_best) >= 0):\n",
    "        return y_best\n",
    "    else:\n",
    "        return 8\n",
    "\n",
    "best_result = random_search(f, lower_bound, upper_bound, 10000)\n",
    "print(best_result)"
   ]
  },
  {
   "cell_type": "code",
   "execution_count": 35,
   "metadata": {},
   "outputs": [
    {
     "name": "stdout",
     "output_type": "stream",
     "text": [
      "3.218406861034198\n"
     ]
    }
   ],
   "source": [
    "#Simulated Annealing\n",
    "lower_bound = np.array([0.125, 0.125, 0.1, 0.1])\n",
    "upper_bound = np.array([5, 5, 10, 10])\n",
    "\n",
    "def simulated_annealing(lower_bound, upper_bound, t_i, iterations):\n",
    "    x_best = np.array(np.random.uniform(lower_bound, upper_bound, 4))\n",
    "    y_best = f(x_best)\n",
    "\n",
    "    x_c = x_best\n",
    "    y_c = y_best\n",
    "    \n",
    "    for k in range(1, iterations):\n",
    "        x_p = []\n",
    "\n",
    "        for i in range(len(x)):\n",
    "            sd = (upper_bound[i] - lower_bound[i]) * 0.1\n",
    "            normal_random = (np.random.normal(x_c[i], sd))\n",
    "            if(normal_random < lower_bound[i]):\n",
    "                normal_random = lower_bound[i]\n",
    "            elif(normal_random > upper_bound[i]):\n",
    "                normal_random = upper_bound[i]\n",
    "            x_p.append(normal_random)\n",
    "        y_p = f(x_p)\n",
    "\n",
    "        if(y_p >= 0 and g1(x_p) >= 0 and g2(x_p) >= 0 and g3(x_p) >= 0 and g4(x_p) >= 0):\n",
    "            y_diff = y_p - y_c\n",
    "            t_k = t_i/k\n",
    "            if( y_diff <= 0 or np.random.uniform(0,1) < min(math.exp(-y_diff/t_k), 1) ):\n",
    "                x_c = x_p\n",
    "                y_c = y_p\n",
    "            if(y_p < y_best):\n",
    "                x_best = x_p\n",
    "                y_best = y_p\n",
    "\n",
    "    if(f(x_best) >= 0 and g1(x_best) >= 0 and g2(x_best) >= 0 and g3(x_best) >= 0 and g4(x_best) >= 0):\n",
    "        return y_best\n",
    "    else:\n",
    "        return 8\n",
    "\n",
    "print(simulated_annealing(lower_bound, upper_bound, 10, 10000))"
   ]
  },
  {
   "cell_type": "code",
   "execution_count": 71,
   "metadata": {},
   "outputs": [
    {
     "name": "stdout",
     "output_type": "stream",
     "text": [
      "Random Search (21): [3.549441414247313, 4.484466682584574, 5.041308516878308, 3.1024482686041255, 4.0772731010579015, 5.138372385295091, 6.81663354926887, 5.229875799397516, 5.470601373850916, 3.5495062654498146, 3.4544373445515744, 4.733897469502602, 5.532974005329528, 4.213998537256887, 4.881501891214389, 3.840646035426268, 4.977360370149847, 4.904178975957489, 4.389315379682818, 4.704605314916768, 4.247190814615778]\n",
      "Simulated Annealing (21): [8, 3.134283613130221, 3.300420295718716, 8, 3.7004650564780377, 3.5230223315231934, 2.811948853081889, 3.421542130171314, 3.1720171049701005, 3.690935743975211, 3.0319458414342693, 3.3442756954441974, 2.9128851975401084, 8, 2.9621779601690377, 3.435351523486046, 3.3476467974638737, 3.413796735266344, 2.9145761117074405, 8, 2.9577719964986926]\n"
     ]
    },
    {
     "data": {
      "image/png": "[encoded data removed]",
      "text/plain": [
       "<Figure size 640x480 with 1 Axes>"
      ]
     },
     "metadata": {},
     "output_type": "display_data"
    }
   ],
   "source": [
    "max_rep = 21\n",
    "iterations = 10000\n",
    "\n",
    "random = [random_search(f, lower_bound, upper_bound, iterations)\n",
    "            for i in range(max_rep)]\n",
    "sim_ann = [simulated_annealing(lower_bound, upper_bound, 10, iterations)\n",
    "            for i in range(max_rep)]\n",
    "\n",
    "plt.boxplot([random, sim_ann])\n",
    "plt.xticks([1,2], ['Random Search', 'Simulated Annealing'])\n",
    "print(\"Random Search ({}): {}\".format(len(random), random))\n",
    "print(\"Simulated Annealing ({}): {}\".format(len(sim_ann), sim_ann))"
   ]
  },
  {
   "cell_type": "code",
   "execution_count": 72,
   "metadata": {},
   "outputs": [
    {
     "name": "stdout",
     "output_type": "stream",
     "text": [
      "p value:  0.0014910322685391852\n"
     ]
    }
   ],
   "source": [
    "from scipy.stats import mannwhitneyu\n",
    "\n",
    "U1, p = mannwhitneyu(random, sim_ann, alternative=\"greater\")\n",
    "print(\"p value: \", p)"
   ]
  },
  {
   "cell_type": "markdown",
   "metadata": {},
   "source": [
    "The p value is less than the acceptance level (0.05), so we reject the null hypothesis.\n",
    "There is a statistically significant difference between the algorithms."
   ]
  }
 ],
 "metadata": {
  "kernelspec": {
   "display_name": "Python 3.10.8 64-bit",
   "language": "python",
   "name": "python3"
  },
  "language_info": {
   "codemirror_mode": {
    "name": "ipython",
    "version": 3
   },
   "file_extension": ".py",
   "mimetype": "text/x-python",
   "name": "python",
   "nbconvert_exporter": "python",
   "pygments_lexer": "ipython3",
   "version": "3.10.8"
  },
  "orig_nbformat": 4,
  "vscode": {
   "interpreter": {
    "hash": "b07eb080b60688c2672243f492eedbb207d2033f74b80915562e64fc6712af11"
   }
  }
 },
 "nbformat": 4,
 "nbformat_minor": 2
}
